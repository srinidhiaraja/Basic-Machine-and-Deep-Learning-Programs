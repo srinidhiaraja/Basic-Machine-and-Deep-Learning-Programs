{
 "cells": [
  {
   "cell_type": "code",
   "execution_count": 1,
   "id": "1f12bca5",
   "metadata": {},
   "outputs": [],
   "source": [
    "from keras.callbacks import ModelCheckpoint\n",
    "from sklearn.model_selection import GridSearchCV\n",
    "#from keras.wrappers.scikit_learn import KerasClassifier\n",
    "#from keras.optimizers import SGD\n",
    "#from keras.constraints import maxnorm\n",
    "import tensorflow as tf\n",
    "import numpy as np\n",
    "import matplotlib.pyplot as plt\n",
    "import keras\n",
    "import keras.callbacks\n",
    "import tensorflow.keras.datasets.fashion_mnist"
   ]
  },
  {
   "cell_type": "code",
   "execution_count": 2,
   "id": "f654cec4",
   "metadata": {},
   "outputs": [],
   "source": [
    "(x_trg_data,y_trg_data),(x_test_data,y_test_data) = tensorflow.keras.datasets.fashion_mnist.load_data()"
   ]
  },
  {
   "cell_type": "code",
   "execution_count": 3,
   "id": "974ad9c1",
   "metadata": {},
   "outputs": [
    {
     "name": "stdout",
     "output_type": "stream",
     "text": [
      "(60000, 28, 28)\n",
      "(60000,)\n",
      "(10000, 28, 28)\n",
      "(10000,)\n"
     ]
    }
   ],
   "source": [
    "print(x_trg_data.shape)\n",
    "print(y_trg_data.shape)\n",
    "print(x_test_data.shape)\n",
    "print(y_test_data.shape)"
   ]
  },
  {
   "cell_type": "code",
   "execution_count": 4,
   "id": "e40f7a92",
   "metadata": {},
   "outputs": [
    {
     "name": "stdout",
     "output_type": "stream",
     "text": [
      "60000 train set samples\n",
      "60000 train set samples\n"
     ]
    }
   ],
   "source": [
    "print(x_trg_data.shape[0],'train set samples')\n",
    "print(y_trg_data.shape[0],'train set samples')"
   ]
  },
  {
   "cell_type": "code",
   "execution_count": 5,
   "id": "dbdba6af",
   "metadata": {},
   "outputs": [
    {
     "name": "stdout",
     "output_type": "stream",
     "text": [
      "0\n",
      "255\n"
     ]
    }
   ],
   "source": [
    "print(np.min(x_trg_data))\n",
    "print(np.max(x_trg_data))"
   ]
  },
  {
   "cell_type": "code",
   "execution_count": 6,
   "id": "72193fa6",
   "metadata": {},
   "outputs": [
    {
     "name": "stdout",
     "output_type": "stream",
     "text": [
      "0.0\n",
      "1.0\n",
      "[[[0. 0. 0. ... 0. 0. 0.]\n",
      "  [0. 0. 0. ... 0. 0. 0.]\n",
      "  [0. 0. 0. ... 0. 0. 0.]\n",
      "  ...\n",
      "  [0. 0. 0. ... 0. 0. 0.]\n",
      "  [0. 0. 0. ... 0. 0. 0.]\n",
      "  [0. 0. 0. ... 0. 0. 0.]]\n",
      "\n",
      " [[0. 0. 0. ... 0. 0. 0.]\n",
      "  [0. 0. 0. ... 0. 0. 0.]\n",
      "  [0. 0. 0. ... 0. 0. 0.]\n",
      "  ...\n",
      "  [0. 0. 0. ... 0. 0. 0.]\n",
      "  [0. 0. 0. ... 0. 0. 0.]\n",
      "  [0. 0. 0. ... 0. 0. 0.]]]\n"
     ]
    }
   ],
   "source": [
    "x_trg_data = x_trg_data.astype('float32')/255\n",
    "x_test_data = x_test_data.astype('float32')/255\n",
    "print(np.min(x_trg_data))\n",
    "print(np.max(x_trg_data))\n",
    "print(x_trg_data[:2])"
   ]
  },
  {
   "cell_type": "code",
   "execution_count": 7,
   "id": "2c3de13c",
   "metadata": {},
   "outputs": [],
   "source": [
    "from sklearn.model_selection import train_test_split"
   ]
  },
  {
   "cell_type": "code",
   "execution_count": 8,
   "id": "9012d878",
   "metadata": {},
   "outputs": [],
   "source": [
    "np.random.seed(500)"
   ]
  },
  {
   "cell_type": "code",
   "execution_count": 13,
   "id": "5aef1a11",
   "metadata": {},
   "outputs": [],
   "source": [
    "x_trg,x_val,y_trg,y_val = train_test_split(x_trg_data,y_trg_data,test_size = 0.2,random_state = 500)"
   ]
  },
  {
   "cell_type": "code",
   "execution_count": 14,
   "id": "6f6edb2c",
   "metadata": {},
   "outputs": [],
   "source": [
    "x_test,y_test = x_test_data,y_test_data"
   ]
  },
  {
   "cell_type": "code",
   "execution_count": 15,
   "id": "01a0fffc",
   "metadata": {},
   "outputs": [],
   "source": [
    "x_trg = x_trg.reshape(x_trg.shape[0],28,28,1)\n",
    "x_val = x_val.reshape(x_val.shape[0],28,28,1)\n",
    "x_test = x_test.reshape(x_test.shape[0],28,28,1)"
   ]
  },
  {
   "cell_type": "code",
   "execution_count": 16,
   "id": "546d58cc",
   "metadata": {},
   "outputs": [],
   "source": [
    "y_trg = tf.keras.utils.to_categorical(y_trg,10)\n",
    "y_val = tf.keras.utils.to_categorical(y_val,10)\n",
    "y_test = tf.keras.utils.to_categorical(y_test,10)"
   ]
  },
  {
   "cell_type": "code",
   "execution_count": 17,
   "id": "76c8035a",
   "metadata": {},
   "outputs": [
    {
     "name": "stdout",
     "output_type": "stream",
     "text": [
      "(48000, 28, 28, 1)\n",
      "(48000, 10)\n"
     ]
    }
   ],
   "source": [
    "print(x_trg.shape)\n",
    "print(y_trg.shape)"
   ]
  },
  {
   "cell_type": "code",
   "execution_count": 18,
   "id": "b1b52c65",
   "metadata": {},
   "outputs": [
    {
     "name": "stdout",
     "output_type": "stream",
     "text": [
      "48000\n",
      "12000\n",
      "10000\n"
     ]
    }
   ],
   "source": [
    "print(x_trg.shape[0])\n",
    "print(x_val.shape[0])\n",
    "print(x_test.shape[0])"
   ]
  },
  {
   "cell_type": "code",
   "execution_count": 19,
   "id": "78aa1d08",
   "metadata": {},
   "outputs": [],
   "source": [
    "model1 = tf.keras.Sequential()"
   ]
  },
  {
   "cell_type": "code",
   "execution_count": 20,
   "id": "51a3e809",
   "metadata": {},
   "outputs": [],
   "source": [
    "model1.add(tf.keras.layers.Flatten(input_shape = (28,28,1)))\n",
    "model1.add(tf.keras.layers.Dense(10,activation = 'softmax'))"
   ]
  },
  {
   "cell_type": "code",
   "execution_count": 21,
   "id": "e253a6b1",
   "metadata": {},
   "outputs": [
    {
     "name": "stdout",
     "output_type": "stream",
     "text": [
      "Model: \"sequential\"\n",
      "_________________________________________________________________\n",
      " Layer (type)                Output Shape              Param #   \n",
      "=================================================================\n",
      " flatten (Flatten)           (None, 784)               0         \n",
      "                                                                 \n",
      " dense (Dense)               (None, 10)                7850      \n",
      "                                                                 \n",
      "=================================================================\n",
      "Total params: 7850 (30.66 KB)\n",
      "Trainable params: 7850 (30.66 KB)\n",
      "Non-trainable params: 0 (0.00 Byte)\n",
      "_________________________________________________________________\n"
     ]
    }
   ],
   "source": [
    "model1.summary()"
   ]
  },
  {
   "cell_type": "code",
   "execution_count": 22,
   "id": "6874b40a",
   "metadata": {},
   "outputs": [],
   "source": [
    "model1.compile(loss = 'categorical_crossentropy',optimizer = 'adam',metrics = ['accuracy'])"
   ]
  },
  {
   "cell_type": "code",
   "execution_count": 23,
   "id": "b15dd149",
   "metadata": {},
   "outputs": [
    {
     "name": "stdout",
     "output_type": "stream",
     "text": [
      "Epoch 1/3\n",
      "375/375 [==============================] - 1s 3ms/step - loss: 0.7786 - accuracy: 0.7448 - val_loss: 0.5636 - val_accuracy: 0.8157\n",
      "Epoch 2/3\n",
      "375/375 [==============================] - 1s 2ms/step - loss: 0.5373 - accuracy: 0.8217 - val_loss: 0.4968 - val_accuracy: 0.8301\n",
      "Epoch 3/3\n",
      "375/375 [==============================] - 1s 2ms/step - loss: 0.4920 - accuracy: 0.8341 - val_loss: 0.4697 - val_accuracy: 0.8385\n"
     ]
    },
    {
     "data": {
      "text/plain": [
       "<keras.src.callbacks.History at 0x20f25370>"
      ]
     },
     "execution_count": 23,
     "metadata": {},
     "output_type": "execute_result"
    }
   ],
   "source": [
    "model1.fit(x_trg,y_trg,batch_size = 128,epochs = 3,validation_data = (x_val,y_val))"
   ]
  },
  {
   "cell_type": "code",
   "execution_count": 24,
   "id": "44c45add",
   "metadata": {},
   "outputs": [
    {
     "name": "stdout",
     "output_type": "stream",
     "text": [
      "Accuracy:  82.41000175476074\n"
     ]
    }
   ],
   "source": [
    "scores = model1.evaluate(x_test, y_test, verbose = 0)\n",
    "print(\"Accuracy: \",100*scores[1])"
   ]
  },
  {
   "cell_type": "code",
   "execution_count": 25,
   "id": "c834a7fc",
   "metadata": {},
   "outputs": [],
   "source": [
    "model2 = tf.keras.Sequential()"
   ]
  },
  {
   "cell_type": "code",
   "execution_count": 27,
   "id": "44a5adec",
   "metadata": {},
   "outputs": [],
   "source": [
    "model2.add(tf.keras.layers.Conv2D(filters = 64,kernel_size = 2,padding = 'same',activation = 'relu',input_shape = (28,28,1)))\n",
    "model2.add(tf.keras.layers.MaxPooling2D(pool_size = 2))\n",
    "model2.add(tf.keras.layers.Conv2D(filters = 32,kernel_size = 2,padding = 'same',activation = 'relu'))\n",
    "model2.add(tf.keras.layers.MaxPooling2D(pool_size = 2))\n",
    "model2.add(tf.keras.layers.Flatten())\n",
    "model2.add(tf.keras.layers.Dense(128,activation = 'relu'))\n",
    "model2.add(tf.keras.layers.Dense(64,activation = 'relu'))\n",
    "model2.add(tf.keras.layers.Dense(10,activation = 'softmax'))"
   ]
  },
  {
   "cell_type": "code",
   "execution_count": 28,
   "id": "e8307e52",
   "metadata": {},
   "outputs": [
    {
     "name": "stdout",
     "output_type": "stream",
     "text": [
      "Model: \"sequential_1\"\n",
      "_________________________________________________________________\n",
      " Layer (type)                Output Shape              Param #   \n",
      "=================================================================\n",
      " conv2d (Conv2D)             (None, 28, 28, 64)        320       \n",
      "                                                                 \n",
      " max_pooling2d (MaxPooling2  (None, 14, 14, 64)        0         \n",
      " D)                                                              \n",
      "                                                                 \n",
      " conv2d_1 (Conv2D)           (None, 14, 14, 32)        8224      \n",
      "                                                                 \n",
      " max_pooling2d_1 (MaxPoolin  (None, 7, 7, 32)          0         \n",
      " g2D)                                                            \n",
      "                                                                 \n",
      " flatten_1 (Flatten)         (None, 1568)              0         \n",
      "                                                                 \n",
      " dense_1 (Dense)             (None, 128)               200832    \n",
      "                                                                 \n",
      " dense_2 (Dense)             (None, 64)                8256      \n",
      "                                                                 \n",
      " dense_3 (Dense)             (None, 10)                650       \n",
      "                                                                 \n",
      "=================================================================\n",
      "Total params: 218282 (852.66 KB)\n",
      "Trainable params: 218282 (852.66 KB)\n",
      "Non-trainable params: 0 (0.00 Byte)\n",
      "_________________________________________________________________\n"
     ]
    }
   ],
   "source": [
    "model2.summary()\n",
    "model2.compile(loss = 'categorical_crossentropy',optimizer = 'adam',metrics = ['accuracy'])"
   ]
  },
  {
   "cell_type": "code",
   "execution_count": 29,
   "id": "c7010b5c",
   "metadata": {},
   "outputs": [
    {
     "name": "stdout",
     "output_type": "stream",
     "text": [
      "Epoch 1/3\n",
      "188/188 [==============================] - 34s 178ms/step - loss: 0.6824 - accuracy: 0.7536 - val_loss: 0.4114 - val_accuracy: 0.8537\n",
      "Epoch 2/3\n",
      "188/188 [==============================] - 33s 174ms/step - loss: 0.3896 - accuracy: 0.8595 - val_loss: 0.3861 - val_accuracy: 0.8584\n",
      "Epoch 3/3\n",
      "188/188 [==============================] - 33s 174ms/step - loss: 0.3415 - accuracy: 0.8771 - val_loss: 0.3027 - val_accuracy: 0.8923\n"
     ]
    },
    {
     "data": {
      "text/plain": [
       "<keras.src.callbacks.History at 0x24f3f220>"
      ]
     },
     "execution_count": 29,
     "metadata": {},
     "output_type": "execute_result"
    }
   ],
   "source": [
    "model2.fit(x_trg,y_trg,batch_size = 256,epochs = 3,validation_data = (x_val,y_val))"
   ]
  },
  {
   "cell_type": "code",
   "execution_count": 30,
   "id": "9e86513c",
   "metadata": {},
   "outputs": [
    {
     "name": "stdout",
     "output_type": "stream",
     "text": [
      "Accuracy test_score:  87.91999816894531\n",
      "Accuracy train_score:  89.31458592414856\n"
     ]
    }
   ],
   "source": [
    "test_score = model2.evaluate(x_test, y_test, verbose = 0)\n",
    "print(\"Accuracy test_score: \",100*test_score[1])\n",
    "train_score = model2.evaluate(x_trg, y_trg, verbose = 0)\n",
    "print(\"Accuracy train_score: \",100*train_score[1])"
   ]
  },
  {
   "cell_type": "code",
   "execution_count": null,
   "id": "251ef1ab",
   "metadata": {},
   "outputs": [],
   "source": []
  }
 ],
 "metadata": {
  "kernelspec": {
   "display_name": "Python 3 (ipykernel)",
   "language": "python",
   "name": "python3"
  },
  "language_info": {
   "codemirror_mode": {
    "name": "ipython",
    "version": 3
   },
   "file_extension": ".py",
   "mimetype": "text/x-python",
   "name": "python",
   "nbconvert_exporter": "python",
   "pygments_lexer": "ipython3",
   "version": "3.8.10"
  }
 },
 "nbformat": 4,
 "nbformat_minor": 5
}
