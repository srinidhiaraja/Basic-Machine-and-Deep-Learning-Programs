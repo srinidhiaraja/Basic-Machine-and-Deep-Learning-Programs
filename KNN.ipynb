{
 "cells": [
  {
   "cell_type": "code",
   "execution_count": 7,
   "id": "3c91ce19",
   "metadata": {},
   "outputs": [
    {
     "name": "stdout",
     "output_type": "stream",
     "text": [
      "Collecting scikit-learn\n",
      "  Obtaining dependency information for scikit-learn from https://files.pythonhosted.org/packages/5f/08/c66e99f06fb73f727c870172f0962c103262ac68839cc05234709b7b45c2/scikit_learn-1.3.0-cp38-cp38-win_amd64.whl.metadata\n",
      "  Downloading scikit_learn-1.3.0-cp38-cp38-win_amd64.whl.metadata (11 kB)\n",
      "Requirement already satisfied: numpy>=1.17.3 in c:\\users\\user\\appdata\\local\\programs\\python\\python38\\lib\\site-packages (from scikit-learn) (1.24.2)\n",
      "Collecting scipy>=1.5.0 (from scikit-learn)\n",
      "  Downloading scipy-1.10.1-cp38-cp38-win_amd64.whl (42.2 MB)\n",
      "     ---------------------------------------- 0.0/42.2 MB ? eta -:--:--\n",
      "     --------------------------------------- 0.0/42.2 MB 991.0 kB/s eta 0:00:43\n",
      "     ---------------------------------------- 0.1/42.2 MB 1.3 MB/s eta 0:00:33\n",
      "     ---------------------------------------- 0.2/42.2 MB 1.4 MB/s eta 0:00:30\n",
      "     ---------------------------------------- 0.4/42.2 MB 2.2 MB/s eta 0:00:19\n",
      "      --------------------------------------- 0.6/42.2 MB 2.7 MB/s eta 0:00:16\n",
      "      --------------------------------------- 0.9/42.2 MB 3.2 MB/s eta 0:00:13\n",
      "     - -------------------------------------- 1.1/42.2 MB 3.6 MB/s eta 0:00:12\n",
      "     - -------------------------------------- 1.3/42.2 MB 3.6 MB/s eta 0:00:12\n",
      "     - -------------------------------------- 1.6/42.2 MB 3.8 MB/s eta 0:00:11\n",
      "     - -------------------------------------- 1.8/42.2 MB 4.0 MB/s eta 0:00:11\n",
      "     - -------------------------------------- 2.0/42.2 MB 4.1 MB/s eta 0:00:10\n",
      "     -- ------------------------------------- 2.3/42.2 MB 4.1 MB/s eta 0:00:10\n",
      "     -- ------------------------------------- 2.5/42.2 MB 4.1 MB/s eta 0:00:10\n",
      "     -- ------------------------------------- 2.8/42.2 MB 4.3 MB/s eta 0:00:10\n",
      "     -- ------------------------------------- 3.0/42.2 MB 4.4 MB/s eta 0:00:09\n",
      "     --- ------------------------------------ 3.3/42.2 MB 4.4 MB/s eta 0:00:09\n",
      "     --- ------------------------------------ 3.5/42.2 MB 4.5 MB/s eta 0:00:09\n",
      "     --- ------------------------------------ 3.8/42.2 MB 4.5 MB/s eta 0:00:09\n",
      "     --- ------------------------------------ 4.0/42.2 MB 4.5 MB/s eta 0:00:09\n",
      "     ---- ----------------------------------- 4.3/42.2 MB 4.6 MB/s eta 0:00:09\n",
      "     ---- ----------------------------------- 4.5/42.2 MB 4.6 MB/s eta 0:00:09\n",
      "     ---- ----------------------------------- 4.8/42.2 MB 4.6 MB/s eta 0:00:09\n",
      "     ---- ----------------------------------- 5.0/42.2 MB 4.7 MB/s eta 0:00:08\n",
      "     ---- ----------------------------------- 5.2/42.2 MB 4.7 MB/s eta 0:00:08\n",
      "     ----- ---------------------------------- 5.5/42.2 MB 4.7 MB/s eta 0:00:08\n",
      "     ----- ---------------------------------- 5.8/42.2 MB 4.8 MB/s eta 0:00:08\n",
      "     ----- ---------------------------------- 6.0/42.2 MB 4.7 MB/s eta 0:00:08\n",
      "     ----- ---------------------------------- 6.2/42.2 MB 4.8 MB/s eta 0:00:08\n",
      "     ------ --------------------------------- 6.5/42.2 MB 4.9 MB/s eta 0:00:08\n",
      "     ------ --------------------------------- 6.8/42.2 MB 4.8 MB/s eta 0:00:08\n",
      "     ------ --------------------------------- 7.0/42.2 MB 4.9 MB/s eta 0:00:08\n",
      "     ------ --------------------------------- 7.3/42.2 MB 4.9 MB/s eta 0:00:08\n",
      "     ------- -------------------------------- 7.5/42.2 MB 4.9 MB/s eta 0:00:08\n",
      "     ------- -------------------------------- 7.8/42.2 MB 4.9 MB/s eta 0:00:07\n",
      "     ------- -------------------------------- 8.0/42.2 MB 4.9 MB/s eta 0:00:07\n",
      "     ------- -------------------------------- 8.3/42.2 MB 4.9 MB/s eta 0:00:07\n",
      "     -------- ------------------------------- 8.5/42.2 MB 4.9 MB/s eta 0:00:07\n",
      "     -------- ------------------------------- 8.8/42.2 MB 5.0 MB/s eta 0:00:07\n",
      "     -------- ------------------------------- 9.0/42.2 MB 5.0 MB/s eta 0:00:07\n",
      "     -------- ------------------------------- 9.2/42.2 MB 5.0 MB/s eta 0:00:07\n",
      "     -------- ------------------------------- 9.5/42.2 MB 5.0 MB/s eta 0:00:07\n",
      "     --------- ------------------------------ 9.7/42.2 MB 5.0 MB/s eta 0:00:07\n",
      "     --------- ------------------------------ 10.0/42.2 MB 5.0 MB/s eta 0:00:07\n",
      "     --------- ------------------------------ 10.2/42.2 MB 5.0 MB/s eta 0:00:07\n",
      "     --------- ------------------------------ 10.5/42.2 MB 5.3 MB/s eta 0:00:06\n",
      "     ---------- ----------------------------- 10.7/42.2 MB 5.2 MB/s eta 0:00:07\n",
      "     ---------- ----------------------------- 10.9/42.2 MB 5.2 MB/s eta 0:00:06\n",
      "     ---------- ----------------------------- 11.2/42.2 MB 5.2 MB/s eta 0:00:06\n",
      "     ---------- ----------------------------- 11.4/42.2 MB 5.2 MB/s eta 0:00:06\n",
      "     ----------- ---------------------------- 11.6/42.2 MB 5.3 MB/s eta 0:00:06\n",
      "     ----------- ---------------------------- 11.8/42.2 MB 5.2 MB/s eta 0:00:06\n",
      "     ----------- ---------------------------- 12.1/42.2 MB 5.2 MB/s eta 0:00:06\n",
      "     ----------- ---------------------------- 12.3/42.2 MB 5.2 MB/s eta 0:00:06\n",
      "     ----------- ---------------------------- 12.6/42.2 MB 5.3 MB/s eta 0:00:06\n",
      "     ------------ --------------------------- 12.9/42.2 MB 5.3 MB/s eta 0:00:06\n",
      "     ------------ --------------------------- 13.1/42.2 MB 5.2 MB/s eta 0:00:06\n",
      "     ------------ --------------------------- 13.3/42.2 MB 5.3 MB/s eta 0:00:06\n",
      "     ------------ --------------------------- 13.6/42.2 MB 5.3 MB/s eta 0:00:06\n",
      "     ------------- -------------------------- 13.8/42.2 MB 5.3 MB/s eta 0:00:06\n",
      "     ------------- -------------------------- 14.1/42.2 MB 5.3 MB/s eta 0:00:06\n",
      "     ------------- -------------------------- 14.3/42.2 MB 5.3 MB/s eta 0:00:06\n",
      "     ------------- -------------------------- 14.6/42.2 MB 5.3 MB/s eta 0:00:06\n",
      "     -------------- ------------------------- 14.8/42.2 MB 5.3 MB/s eta 0:00:06\n",
      "     -------------- ------------------------- 15.1/42.2 MB 5.3 MB/s eta 0:00:06\n",
      "     -------------- ------------------------- 15.3/42.2 MB 5.3 MB/s eta 0:00:06\n",
      "     -------------- ------------------------- 15.6/42.2 MB 5.3 MB/s eta 0:00:06\n",
      "     --------------- ------------------------ 15.8/42.2 MB 5.2 MB/s eta 0:00:06\n",
      "     --------------- ------------------------ 16.1/42.2 MB 5.2 MB/s eta 0:00:05\n",
      "     --------------- ------------------------ 16.3/42.2 MB 5.3 MB/s eta 0:00:05\n",
      "     --------------- ------------------------ 16.6/42.2 MB 5.3 MB/s eta 0:00:05\n",
      "     --------------- ------------------------ 16.8/42.2 MB 5.3 MB/s eta 0:00:05\n",
      "     ---------------- ----------------------- 17.1/42.2 MB 5.2 MB/s eta 0:00:05\n",
      "     ---------------- ----------------------- 17.3/42.2 MB 5.2 MB/s eta 0:00:05\n",
      "     ---------------- ----------------------- 17.6/42.2 MB 5.2 MB/s eta 0:00:05\n",
      "     ---------------- ----------------------- 17.8/42.2 MB 5.2 MB/s eta 0:00:05\n",
      "     ----------------- ---------------------- 18.1/42.2 MB 5.2 MB/s eta 0:00:05\n",
      "     ----------------- ---------------------- 18.3/42.2 MB 5.2 MB/s eta 0:00:05\n",
      "     ----------------- ---------------------- 18.6/42.2 MB 5.2 MB/s eta 0:00:05\n",
      "     ----------------- ---------------------- 18.8/42.2 MB 5.2 MB/s eta 0:00:05\n",
      "     ------------------ --------------------- 19.1/42.2 MB 5.3 MB/s eta 0:00:05\n",
      "     ------------------ --------------------- 19.3/42.2 MB 5.2 MB/s eta 0:00:05\n",
      "     ------------------ --------------------- 19.6/42.2 MB 5.3 MB/s eta 0:00:05\n",
      "     ------------------ --------------------- 19.8/42.2 MB 5.3 MB/s eta 0:00:05\n",
      "     ------------------- -------------------- 20.1/42.2 MB 5.3 MB/s eta 0:00:05\n",
      "     ------------------- -------------------- 20.3/42.2 MB 5.3 MB/s eta 0:00:05\n",
      "     ------------------- -------------------- 20.6/42.2 MB 5.3 MB/s eta 0:00:05\n",
      "     ------------------- -------------------- 20.8/42.2 MB 5.3 MB/s eta 0:00:05\n",
      "     ------------------- -------------------- 21.1/42.2 MB 5.3 MB/s eta 0:00:04\n",
      "     -------------------- ------------------- 21.4/42.2 MB 5.3 MB/s eta 0:00:04\n",
      "     -------------------- ------------------- 21.6/42.2 MB 5.3 MB/s eta 0:00:04\n",
      "     -------------------- ------------------- 21.9/42.2 MB 5.3 MB/s eta 0:00:04\n",
      "     -------------------- ------------------- 22.1/42.2 MB 5.4 MB/s eta 0:00:04\n",
      "     --------------------- ------------------ 22.3/42.2 MB 5.3 MB/s eta 0:00:04\n",
      "     --------------------- ------------------ 22.6/42.2 MB 5.3 MB/s eta 0:00:04\n",
      "     --------------------- ------------------ 22.8/42.2 MB 5.3 MB/s eta 0:00:04\n",
      "     --------------------- ------------------ 23.1/42.2 MB 5.3 MB/s eta 0:00:04\n",
      "     ---------------------- ----------------- 23.3/42.2 MB 5.3 MB/s eta 0:00:04\n",
      "     ---------------------- ----------------- 23.6/42.2 MB 5.3 MB/s eta 0:00:04\n",
      "     ---------------------- ----------------- 23.8/42.2 MB 5.3 MB/s eta 0:00:04\n",
      "     ---------------------- ----------------- 24.1/42.2 MB 5.3 MB/s eta 0:00:04\n",
      "     ----------------------- ---------------- 24.3/42.2 MB 5.3 MB/s eta 0:00:04\n",
      "     ----------------------- ---------------- 24.6/42.2 MB 5.4 MB/s eta 0:00:04\n",
      "     ----------------------- ---------------- 24.9/42.2 MB 5.4 MB/s eta 0:00:04\n",
      "     ----------------------- ---------------- 25.1/42.2 MB 5.4 MB/s eta 0:00:04\n",
      "     ------------------------ --------------- 25.4/42.2 MB 5.4 MB/s eta 0:00:04\n",
      "     ------------------------ --------------- 25.6/42.2 MB 5.4 MB/s eta 0:00:04\n",
      "     ------------------------ --------------- 25.9/42.2 MB 5.4 MB/s eta 0:00:04\n",
      "     ------------------------ --------------- 26.1/42.2 MB 5.4 MB/s eta 0:00:03\n",
      "     ------------------------ --------------- 26.4/42.2 MB 5.4 MB/s eta 0:00:03\n",
      "     ------------------------- -------------- 26.6/42.2 MB 5.4 MB/s eta 0:00:03\n",
      "     ------------------------- -------------- 26.9/42.2 MB 5.3 MB/s eta 0:00:03\n",
      "     ------------------------- -------------- 27.1/42.2 MB 5.4 MB/s eta 0:00:03\n",
      "     ------------------------- -------------- 27.4/42.2 MB 5.4 MB/s eta 0:00:03\n",
      "     -------------------------- ------------- 27.6/42.2 MB 5.4 MB/s eta 0:00:03\n",
      "     -------------------------- ------------- 27.9/42.2 MB 5.4 MB/s eta 0:00:03\n",
      "     -------------------------- ------------- 28.1/42.2 MB 5.4 MB/s eta 0:00:03\n",
      "     -------------------------- ------------- 28.4/42.2 MB 5.4 MB/s eta 0:00:03\n",
      "     --------------------------- ------------ 28.6/42.2 MB 5.4 MB/s eta 0:00:03\n",
      "     --------------------------- ------------ 28.8/42.2 MB 5.4 MB/s eta 0:00:03\n",
      "     --------------------------- ------------ 29.1/42.2 MB 5.4 MB/s eta 0:00:03\n",
      "     --------------------------- ------------ 29.4/42.2 MB 5.3 MB/s eta 0:00:03\n",
      "     ---------------------------- ----------- 29.6/42.2 MB 5.4 MB/s eta 0:00:03\n",
      "     ---------------------------- ----------- 29.8/42.2 MB 5.4 MB/s eta 0:00:03\n",
      "     ---------------------------- ----------- 30.1/42.2 MB 5.4 MB/s eta 0:00:03\n",
      "     ---------------------------- ----------- 30.3/42.2 MB 5.4 MB/s eta 0:00:03\n",
      "     ---------------------------- ----------- 30.6/42.2 MB 5.4 MB/s eta 0:00:03\n",
      "     ----------------------------- ---------- 30.8/42.2 MB 5.4 MB/s eta 0:00:03\n",
      "     ----------------------------- ---------- 31.1/42.2 MB 5.4 MB/s eta 0:00:03\n",
      "     ----------------------------- ---------- 31.3/42.2 MB 5.4 MB/s eta 0:00:03\n",
      "     ----------------------------- ---------- 31.6/42.2 MB 5.4 MB/s eta 0:00:02\n",
      "     ------------------------------ --------- 31.8/42.2 MB 5.4 MB/s eta 0:00:02\n",
      "     ------------------------------ --------- 32.1/42.2 MB 5.4 MB/s eta 0:00:02\n",
      "     ------------------------------ --------- 32.4/42.2 MB 5.3 MB/s eta 0:00:02\n",
      "     ------------------------------ --------- 32.6/42.2 MB 5.4 MB/s eta 0:00:02\n",
      "     ------------------------------- -------- 32.9/42.2 MB 5.4 MB/s eta 0:00:02\n",
      "     ------------------------------- -------- 33.1/42.2 MB 5.4 MB/s eta 0:00:02\n",
      "     ------------------------------- -------- 33.4/42.2 MB 5.4 MB/s eta 0:00:02\n",
      "     ------------------------------- -------- 33.6/42.2 MB 5.4 MB/s eta 0:00:02\n",
      "     -------------------------------- ------- 33.9/42.2 MB 5.4 MB/s eta 0:00:02\n",
      "     -------------------------------- ------- 34.1/42.2 MB 5.4 MB/s eta 0:00:02\n",
      "     -------------------------------- ------- 34.4/42.2 MB 5.4 MB/s eta 0:00:02\n",
      "     -------------------------------- ------- 34.6/42.2 MB 5.4 MB/s eta 0:00:02\n",
      "     --------------------------------- ------ 34.9/42.2 MB 5.4 MB/s eta 0:00:02\n",
      "     --------------------------------- ------ 35.1/42.2 MB 5.4 MB/s eta 0:00:02\n",
      "     --------------------------------- ------ 35.4/42.2 MB 5.4 MB/s eta 0:00:02\n",
      "     --------------------------------- ------ 35.6/42.2 MB 5.4 MB/s eta 0:00:02\n",
      "     --------------------------------- ------ 35.9/42.2 MB 5.4 MB/s eta 0:00:02\n",
      "     ---------------------------------- ----- 36.1/42.2 MB 5.4 MB/s eta 0:00:02\n",
      "     ---------------------------------- ----- 36.4/42.2 MB 5.4 MB/s eta 0:00:02\n",
      "     ---------------------------------- ----- 36.6/42.2 MB 5.3 MB/s eta 0:00:02\n",
      "     ---------------------------------- ----- 36.9/42.2 MB 5.3 MB/s eta 0:00:02\n",
      "     ----------------------------------- ---- 37.1/42.2 MB 5.3 MB/s eta 0:00:01\n",
      "     ----------------------------------- ---- 37.3/42.2 MB 5.3 MB/s eta 0:00:01\n",
      "     ----------------------------------- ---- 37.6/42.2 MB 5.3 MB/s eta 0:00:01\n",
      "     ----------------------------------- ---- 37.8/42.2 MB 5.3 MB/s eta 0:00:01\n",
      "     ------------------------------------ --- 38.0/42.2 MB 5.3 MB/s eta 0:00:01\n",
      "     ------------------------------------ --- 38.3/42.2 MB 5.3 MB/s eta 0:00:01\n",
      "     ------------------------------------ --- 38.5/42.2 MB 5.3 MB/s eta 0:00:01\n",
      "     ------------------------------------ --- 38.8/42.2 MB 5.3 MB/s eta 0:00:01\n",
      "     ------------------------------------- -- 39.1/42.2 MB 5.3 MB/s eta 0:00:01\n",
      "     ------------------------------------- -- 39.3/42.2 MB 5.3 MB/s eta 0:00:01\n",
      "     ------------------------------------- -- 39.6/42.2 MB 5.3 MB/s eta 0:00:01\n",
      "     ------------------------------------- -- 39.8/42.2 MB 5.4 MB/s eta 0:00:01\n",
      "     ------------------------------------- -- 40.1/42.2 MB 5.4 MB/s eta 0:00:01\n",
      "     -------------------------------------- - 40.3/42.2 MB 5.4 MB/s eta 0:00:01\n",
      "     -------------------------------------- - 40.6/42.2 MB 5.4 MB/s eta 0:00:01\n",
      "     -------------------------------------- - 40.8/42.2 MB 5.4 MB/s eta 0:00:01\n",
      "     -------------------------------------- - 41.1/42.2 MB 5.4 MB/s eta 0:00:01\n",
      "     ---------------------------------------  41.3/42.2 MB 5.3 MB/s eta 0:00:01\n",
      "     ---------------------------------------  41.6/42.2 MB 5.4 MB/s eta 0:00:01\n",
      "     ---------------------------------------  41.8/42.2 MB 5.3 MB/s eta 0:00:01\n",
      "     ---------------------------------------  42.1/42.2 MB 5.4 MB/s eta 0:00:01\n",
      "     ---------------------------------------  42.2/42.2 MB 5.3 MB/s eta 0:00:01\n",
      "     ---------------------------------------  42.2/42.2 MB 5.3 MB/s eta 0:00:01\n",
      "     ---------------------------------------  42.2/42.2 MB 5.3 MB/s eta 0:00:01\n",
      "     ---------------------------------------  42.2/42.2 MB 5.3 MB/s eta 0:00:01\n",
      "     ---------------------------------------- 42.2/42.2 MB 4.8 MB/s eta 0:00:00\n",
      "Collecting joblib>=1.1.1 (from scikit-learn)\n",
      "  Obtaining dependency information for joblib>=1.1.1 from https://files.pythonhosted.org/packages/28/08/9dcdaa5aac4634e4c23af26d92121f7ce445c630efa0d3037881ae2407fb/joblib-1.3.1-py3-none-any.whl.metadata\n",
      "  Downloading joblib-1.3.1-py3-none-any.whl.metadata (5.4 kB)\n",
      "Collecting threadpoolctl>=2.0.0 (from scikit-learn)\n",
      "  Obtaining dependency information for threadpoolctl>=2.0.0 from https://files.pythonhosted.org/packages/81/12/fd4dea011af9d69e1cad05c75f3f7202cdcbeac9b712eea58ca779a72865/threadpoolctl-3.2.0-py3-none-any.whl.metadata\n",
      "  Downloading threadpoolctl-3.2.0-py3-none-any.whl.metadata (10.0 kB)\n",
      "Downloading scikit_learn-1.3.0-cp38-cp38-win_amd64.whl (9.2 MB)\n",
      "   ---------------------------------------- 0.0/9.2 MB ? eta -:--:--\n",
      "   - -------------------------------------- 0.3/9.2 MB 15.4 MB/s eta 0:00:01\n",
      "   -- ------------------------------------- 0.5/9.2 MB 8.1 MB/s eta 0:00:02\n",
      "   --- ------------------------------------ 0.8/9.2 MB 7.0 MB/s eta 0:00:02\n",
      "   ---- ----------------------------------- 1.0/9.2 MB 6.6 MB/s eta 0:00:02\n",
      "   ----- ---------------------------------- 1.3/9.2 MB 6.3 MB/s eta 0:00:02\n",
      "   ------ --------------------------------- 1.5/9.2 MB 6.1 MB/s eta 0:00:02\n",
      "   ------- -------------------------------- 1.8/9.2 MB 6.0 MB/s eta 0:00:02\n",
      "   -------- ------------------------------- 2.0/9.2 MB 5.7 MB/s eta 0:00:02\n",
      "   --------- ------------------------------ 2.3/9.2 MB 5.9 MB/s eta 0:00:02\n",
      "   ---------- ----------------------------- 2.5/9.2 MB 5.8 MB/s eta 0:00:02\n",
      "   ------------ --------------------------- 2.8/9.2 MB 5.7 MB/s eta 0:00:02\n",
      "   ------------- -------------------------- 3.0/9.2 MB 5.7 MB/s eta 0:00:02\n",
      "   -------------- ------------------------- 3.3/9.2 MB 5.7 MB/s eta 0:00:02\n",
      "   --------------- ------------------------ 3.5/9.2 MB 5.5 MB/s eta 0:00:02\n",
      "   ---------------- ----------------------- 3.8/9.2 MB 5.6 MB/s eta 0:00:01\n",
      "   ----------------- ---------------------- 4.0/9.2 MB 5.6 MB/s eta 0:00:01\n",
      "   ------------------ --------------------- 4.3/9.2 MB 5.6 MB/s eta 0:00:01\n",
      "   ------------------- -------------------- 4.5/9.2 MB 5.6 MB/s eta 0:00:01\n",
      "   -------------------- ------------------- 4.8/9.2 MB 5.5 MB/s eta 0:00:01\n",
      "   --------------------- ------------------ 5.0/9.2 MB 5.5 MB/s eta 0:00:01\n",
      "   ---------------------- ----------------- 5.3/9.2 MB 5.5 MB/s eta 0:00:01\n",
      "   ----------------------- ---------------- 5.5/9.2 MB 5.5 MB/s eta 0:00:01\n",
      "   ------------------------ --------------- 5.8/9.2 MB 5.4 MB/s eta 0:00:01\n",
      "   -------------------------- ------------- 6.0/9.2 MB 5.5 MB/s eta 0:00:01\n",
      "   --------------------------- ------------ 6.3/9.2 MB 5.5 MB/s eta 0:00:01\n",
      "   ---------------------------- ----------- 6.5/9.2 MB 5.5 MB/s eta 0:00:01\n",
      "   ----------------------------- ---------- 6.8/9.2 MB 5.5 MB/s eta 0:00:01\n",
      "   ------------------------------ --------- 7.0/9.2 MB 5.4 MB/s eta 0:00:01\n",
      "   ------------------------------- -------- 7.3/9.2 MB 5.5 MB/s eta 0:00:01\n",
      "   -------------------------------- ------- 7.5/9.2 MB 5.5 MB/s eta 0:00:01\n",
      "   --------------------------------- ------ 7.8/9.2 MB 5.5 MB/s eta 0:00:01\n",
      "   ---------------------------------- ----- 8.0/9.2 MB 5.5 MB/s eta 0:00:01\n",
      "   ----------------------------------- ---- 8.3/9.2 MB 5.5 MB/s eta 0:00:01\n",
      "   ------------------------------------ --- 8.5/9.2 MB 5.5 MB/s eta 0:00:01\n",
      "   -------------------------------------- - 8.8/9.2 MB 5.5 MB/s eta 0:00:01\n",
      "   ---------------------------------------  9.1/9.2 MB 5.4 MB/s eta 0:00:01\n",
      "   ---------------------------------------  9.2/9.2 MB 5.4 MB/s eta 0:00:01\n",
      "   ---------------------------------------- 9.2/9.2 MB 5.2 MB/s eta 0:00:00\n",
      "Downloading joblib-1.3.1-py3-none-any.whl (301 kB)\n",
      "   ---------------------------------------- 0.0/302.0 kB ? eta -:--:--\n",
      "   ---------------------------------------  297.0/302.0 kB 9.2 MB/s eta 0:00:01\n",
      "   ---------------------------------------- 302.0/302.0 kB 6.3 MB/s eta 0:00:00\n",
      "Downloading threadpoolctl-3.2.0-py3-none-any.whl (15 kB)\n",
      "Installing collected packages: threadpoolctl, scipy, joblib, scikit-learn\n",
      "Successfully installed joblib-1.3.1 scikit-learn-1.3.0 scipy-1.10.1 threadpoolctl-3.2.0\n",
      "Note: you may need to restart the kernel to use updated packages.\n"
     ]
    }
   ],
   "source": [
    "pip install scikit-learn"
   ]
  },
  {
   "cell_type": "code",
   "execution_count": 24,
   "id": "31ecc64c",
   "metadata": {},
   "outputs": [],
   "source": [
    "import sklearn"
   ]
  },
  {
   "cell_type": "code",
   "execution_count": 25,
   "id": "0c849b14",
   "metadata": {},
   "outputs": [],
   "source": [
    "from sklearn.datasets import load_iris\n",
    "from sklearn.datasets import load_digits"
   ]
  },
  {
   "cell_type": "code",
   "execution_count": 26,
   "id": "28d0a9a5",
   "metadata": {},
   "outputs": [],
   "source": [
    "import pandas as pd\n",
    "import numpy as np"
   ]
  },
  {
   "cell_type": "code",
   "execution_count": 27,
   "id": "9d32f0c6",
   "metadata": {},
   "outputs": [],
   "source": [
    "iris_dataset=load_iris()"
   ]
  },
  {
   "cell_type": "code",
   "execution_count": 28,
   "id": "6e68f21c",
   "metadata": {},
   "outputs": [],
   "source": [
    "from sklearn.model_selection import train_test_split"
   ]
  },
  {
   "cell_type": "code",
   "execution_count": 29,
   "id": "e806f004",
   "metadata": {},
   "outputs": [
    {
     "data": {
      "text/plain": [
       "['sepal length (cm)',\n",
       " 'sepal width (cm)',\n",
       " 'petal length (cm)',\n",
       " 'petal width (cm)']"
      ]
     },
     "execution_count": 29,
     "metadata": {},
     "output_type": "execute_result"
    }
   ],
   "source": [
    "iris_dataset['feature_names']"
   ]
  },
  {
   "cell_type": "code",
   "execution_count": 30,
   "id": "a14ad9bc",
   "metadata": {},
   "outputs": [
    {
     "data": {
      "text/plain": [
       "array([[5.1, 3.5, 1.4, 0.2],\n",
       "       [4.9, 3. , 1.4, 0.2],\n",
       "       [4.7, 3.2, 1.3, 0.2],\n",
       "       [4.6, 3.1, 1.5, 0.2]])"
      ]
     },
     "execution_count": 30,
     "metadata": {},
     "output_type": "execute_result"
    }
   ],
   "source": [
    "iris_dataset['data'][:4]"
   ]
  },
  {
   "cell_type": "code",
   "execution_count": 31,
   "id": "20593a3f",
   "metadata": {},
   "outputs": [
    {
     "data": {
      "text/plain": [
       "array([0, 0, 0, 0, 0, 0, 0, 0, 0, 0, 0, 0, 0, 0, 0, 0, 0, 0, 0, 0, 0, 0,\n",
       "       0, 0, 0, 0, 0, 0, 0, 0, 0, 0, 0, 0, 0, 0, 0, 0, 0, 0, 0, 0, 0, 0,\n",
       "       0, 0, 0, 0, 0, 0, 1, 1, 1, 1, 1, 1, 1, 1, 1, 1, 1, 1, 1, 1, 1, 1,\n",
       "       1, 1, 1, 1, 1, 1, 1, 1, 1, 1, 1, 1, 1, 1, 1, 1, 1, 1, 1, 1, 1, 1,\n",
       "       1, 1, 1, 1, 1, 1, 1, 1, 1, 1, 1, 1, 2, 2, 2, 2, 2, 2, 2, 2, 2, 2,\n",
       "       2, 2, 2, 2, 2, 2, 2, 2, 2, 2, 2, 2, 2, 2, 2, 2, 2, 2, 2, 2, 2, 2,\n",
       "       2, 2, 2, 2, 2, 2, 2, 2, 2, 2, 2, 2, 2, 2, 2, 2, 2, 2])"
      ]
     },
     "execution_count": 31,
     "metadata": {},
     "output_type": "execute_result"
    }
   ],
   "source": [
    "iris_dataset['target']"
   ]
  },
  {
   "cell_type": "code",
   "execution_count": 32,
   "id": "45e1caf7",
   "metadata": {},
   "outputs": [
    {
     "name": "stdout",
     "output_type": "stream",
     "text": [
      ".. _iris_dataset:\n",
      "\n",
      "Iris plants dataset\n",
      "--------------------\n",
      "\n",
      "**Data Set Characteristics:**\n",
      "\n",
      "    :Number of Instances: 150 (50 in each of three classes)\n",
      "    :Number of Attributes: 4 numeric, predictive attributes and the class\n",
      "    :Attribute Information:\n",
      "        - sepal length in cm\n",
      "        - sepal width in cm\n",
      "        - petal length in cm\n",
      "        - petal width in cm\n",
      "        - class:\n",
      "                - Iris-Setosa\n",
      "                - Iris-Versicolour\n",
      "                - Iris-Virginica\n",
      "                \n",
      "    :Summary Statistics:\n",
      "\n",
      "    ============== ==== ==== ======= ===== ====================\n",
      "                    Min  Max   Mean    SD   Class Correlation\n",
      "    ============== ==== ==== ======= ===== ====================\n",
      "    sepal length:   4.3  7.9   5.84   0.83    0.7826\n",
      "    sepal width:    2.0  4.4   3.05   0.43   -0.4194\n",
      "    petal length:   1.0  6.9   3.76   1.76    0.9490  (high!)\n",
      "    petal width:    0.1  2.5   1.20   0.76    0.9565  (high!)\n",
      "    ============== ==== ==== ======= ===== ====================\n",
      "\n",
      "    :Missing Attribute Values: None\n",
      "    :Class Distribution: 33.3% for each of 3 classes.\n",
      "    :Creator: R.A. Fisher\n",
      "    :Donor: Michael Marshall (MARSHALL%PLU@io.arc.nasa.gov)\n",
      "    :Date: July, 1988\n",
      "\n",
      "The famous Iris database, first used by Sir R.A. Fisher. The dataset is taken\n",
      "from Fisher's paper. Note that it's the same as in R, but not as in the UCI\n",
      "Machine Learning Repository, which has two wrong data points.\n",
      "\n",
      "This is perhaps the best known database to be found in the\n",
      "pattern recognition literature.  Fisher's paper is a classic in the field and\n",
      "is referenced frequently to this day.  (See Duda & Hart, for example.)  The\n",
      "data set contains 3 classes of 50 instances each, where each class refers to a\n",
      "type of iris plant.  One class is linearly separable from the other 2; the\n",
      "latter are NOT linearly separable from each other.\n",
      "\n",
      ".. topic:: References\n",
      "\n",
      "   - Fisher, R.A. \"The use of multiple measurements in taxonomic problems\"\n",
      "     Annual Eugenics, 7, Part II, 179-188 (1936); also in \"Contributions to\n",
      "     Mathematical Statistics\" (John Wiley, NY, 1950).\n",
      "   - Duda, R.O., & Hart, P.E. (1973) Pattern Classification and Scene Analysis.\n",
      "     (Q327.D83) John Wiley & Sons.  ISBN 0-471-22361-1.  See page 218.\n",
      "   - Dasarathy, B.V. (1980) \"Nosing Around the Neighborhood: A New System\n",
      "     Structure and Classification Rule for Recognition in Partially Exposed\n",
      "     Environments\".  IEEE Transactions on Pattern Analysis and Machine\n",
      "     Intelligence, Vol. PAMI-2, No. 1, 67-71.\n",
      "   - Gates, G.W. (1972) \"The Reduced Nearest Neighbor Rule\".  IEEE Transactions\n",
      "     on Information Theory, May 1972, 431-433.\n",
      "   - See also: 1988 MLC Proceedings, 54-64.  Cheeseman et al\"s AUTOCLASS II\n",
      "     conceptual clustering system finds 3 classes in the data.\n",
      "   - Many, many more ...\n"
     ]
    }
   ],
   "source": [
    "print(iris_dataset['DESCR'])"
   ]
  },
  {
   "cell_type": "code",
   "execution_count": 33,
   "id": "7ab7a1d1",
   "metadata": {},
   "outputs": [],
   "source": [
    "X_train , X_test , y_train ,y_test=train_test_split(iris_dataset['data'],iris_dataset['target'],random_state=0)"
   ]
  },
  {
   "cell_type": "code",
   "execution_count": 34,
   "id": "48d84b03",
   "metadata": {},
   "outputs": [
    {
     "name": "stdout",
     "output_type": "stream",
     "text": [
      "[2 1 0 2 0 2]\n"
     ]
    }
   ],
   "source": [
    "print(y_test[:6])"
   ]
  },
  {
   "cell_type": "code",
   "execution_count": 37,
   "id": "b85adbeb",
   "metadata": {},
   "outputs": [],
   "source": [
    "from sklearn.neighbors import KNeighborsClassifier"
   ]
  },
  {
   "cell_type": "code",
   "execution_count": 38,
   "id": "5ed6abec",
   "metadata": {},
   "outputs": [
    {
     "data": {
      "text/plain": [
       "array(['setosa', 'versicolor', 'virginica'], dtype='<U10')"
      ]
     },
     "execution_count": 38,
     "metadata": {},
     "output_type": "execute_result"
    }
   ],
   "source": [
    "iris_dataset['target_names']"
   ]
  },
  {
   "cell_type": "code",
   "execution_count": 39,
   "id": "c02d42c0",
   "metadata": {},
   "outputs": [],
   "source": [
    "knn=KNeighborsClassifier(n_neighbors=5)"
   ]
  },
  {
   "cell_type": "code",
   "execution_count": 40,
   "id": "3977a3d6",
   "metadata": {},
   "outputs": [
    {
     "data": {
      "text/html": [
       "<style>#sk-container-id-1 {color: black;}#sk-container-id-1 pre{padding: 0;}#sk-container-id-1 div.sk-toggleable {background-color: white;}#sk-container-id-1 label.sk-toggleable__label {cursor: pointer;display: block;width: 100%;margin-bottom: 0;padding: 0.3em;box-sizing: border-box;text-align: center;}#sk-container-id-1 label.sk-toggleable__label-arrow:before {content: \"▸\";float: left;margin-right: 0.25em;color: #696969;}#sk-container-id-1 label.sk-toggleable__label-arrow:hover:before {color: black;}#sk-container-id-1 div.sk-estimator:hover label.sk-toggleable__label-arrow:before {color: black;}#sk-container-id-1 div.sk-toggleable__content {max-height: 0;max-width: 0;overflow: hidden;text-align: left;background-color: #f0f8ff;}#sk-container-id-1 div.sk-toggleable__content pre {margin: 0.2em;color: black;border-radius: 0.25em;background-color: #f0f8ff;}#sk-container-id-1 input.sk-toggleable__control:checked~div.sk-toggleable__content {max-height: 200px;max-width: 100%;overflow: auto;}#sk-container-id-1 input.sk-toggleable__control:checked~label.sk-toggleable__label-arrow:before {content: \"▾\";}#sk-container-id-1 div.sk-estimator input.sk-toggleable__control:checked~label.sk-toggleable__label {background-color: #d4ebff;}#sk-container-id-1 div.sk-label input.sk-toggleable__control:checked~label.sk-toggleable__label {background-color: #d4ebff;}#sk-container-id-1 input.sk-hidden--visually {border: 0;clip: rect(1px 1px 1px 1px);clip: rect(1px, 1px, 1px, 1px);height: 1px;margin: -1px;overflow: hidden;padding: 0;position: absolute;width: 1px;}#sk-container-id-1 div.sk-estimator {font-family: monospace;background-color: #f0f8ff;border: 1px dotted black;border-radius: 0.25em;box-sizing: border-box;margin-bottom: 0.5em;}#sk-container-id-1 div.sk-estimator:hover {background-color: #d4ebff;}#sk-container-id-1 div.sk-parallel-item::after {content: \"\";width: 100%;border-bottom: 1px solid gray;flex-grow: 1;}#sk-container-id-1 div.sk-label:hover label.sk-toggleable__label {background-color: #d4ebff;}#sk-container-id-1 div.sk-serial::before {content: \"\";position: absolute;border-left: 1px solid gray;box-sizing: border-box;top: 0;bottom: 0;left: 50%;z-index: 0;}#sk-container-id-1 div.sk-serial {display: flex;flex-direction: column;align-items: center;background-color: white;padding-right: 0.2em;padding-left: 0.2em;position: relative;}#sk-container-id-1 div.sk-item {position: relative;z-index: 1;}#sk-container-id-1 div.sk-parallel {display: flex;align-items: stretch;justify-content: center;background-color: white;position: relative;}#sk-container-id-1 div.sk-item::before, #sk-container-id-1 div.sk-parallel-item::before {content: \"\";position: absolute;border-left: 1px solid gray;box-sizing: border-box;top: 0;bottom: 0;left: 50%;z-index: -1;}#sk-container-id-1 div.sk-parallel-item {display: flex;flex-direction: column;z-index: 1;position: relative;background-color: white;}#sk-container-id-1 div.sk-parallel-item:first-child::after {align-self: flex-end;width: 50%;}#sk-container-id-1 div.sk-parallel-item:last-child::after {align-self: flex-start;width: 50%;}#sk-container-id-1 div.sk-parallel-item:only-child::after {width: 0;}#sk-container-id-1 div.sk-dashed-wrapped {border: 1px dashed gray;margin: 0 0.4em 0.5em 0.4em;box-sizing: border-box;padding-bottom: 0.4em;background-color: white;}#sk-container-id-1 div.sk-label label {font-family: monospace;font-weight: bold;display: inline-block;line-height: 1.2em;}#sk-container-id-1 div.sk-label-container {text-align: center;}#sk-container-id-1 div.sk-container {/* jupyter's `normalize.less` sets `[hidden] { display: none; }` but bootstrap.min.css set `[hidden] { display: none !important; }` so we also need the `!important` here to be able to override the default hidden behavior on the sphinx rendered scikit-learn.org. See: https://github.com/scikit-learn/scikit-learn/issues/21755 */display: inline-block !important;position: relative;}#sk-container-id-1 div.sk-text-repr-fallback {display: none;}</style><div id=\"sk-container-id-1\" class=\"sk-top-container\"><div class=\"sk-text-repr-fallback\"><pre>KNeighborsClassifier()</pre><b>In a Jupyter environment, please rerun this cell to show the HTML representation or trust the notebook. <br />On GitHub, the HTML representation is unable to render, please try loading this page with nbviewer.org.</b></div><div class=\"sk-container\" hidden><div class=\"sk-item\"><div class=\"sk-estimator sk-toggleable\"><input class=\"sk-toggleable__control sk-hidden--visually\" id=\"sk-estimator-id-1\" type=\"checkbox\" checked><label for=\"sk-estimator-id-1\" class=\"sk-toggleable__label sk-toggleable__label-arrow\">KNeighborsClassifier</label><div class=\"sk-toggleable__content\"><pre>KNeighborsClassifier()</pre></div></div></div></div></div>"
      ],
      "text/plain": [
       "KNeighborsClassifier()"
      ]
     },
     "execution_count": 40,
     "metadata": {},
     "output_type": "execute_result"
    }
   ],
   "source": [
    "knn.fit(X_train,y_train)"
   ]
  },
  {
   "cell_type": "code",
   "execution_count": 41,
   "id": "c7771a93",
   "metadata": {},
   "outputs": [],
   "source": [
    "y=knn.predict(X_test)"
   ]
  },
  {
   "cell_type": "code",
   "execution_count": 42,
   "id": "e56ff376",
   "metadata": {},
   "outputs": [
    {
     "name": "stdout",
     "output_type": "stream",
     "text": [
      "0.9736842105263158\n"
     ]
    }
   ],
   "source": [
    "print(np.mean(y==y_test))"
   ]
  },
  {
   "cell_type": "code",
   "execution_count": null,
   "id": "f448c5d1",
   "metadata": {},
   "outputs": [],
   "source": []
  }
 ],
 "metadata": {
  "kernelspec": {
   "display_name": "Python 3 (ipykernel)",
   "language": "python",
   "name": "python3"
  },
  "language_info": {
   "codemirror_mode": {
    "name": "ipython",
    "version": 3
   },
   "file_extension": ".py",
   "mimetype": "text/x-python",
   "name": "python",
   "nbconvert_exporter": "python",
   "pygments_lexer": "ipython3",
   "version": "3.8.10"
  }
 },
 "nbformat": 4,
 "nbformat_minor": 5
}
